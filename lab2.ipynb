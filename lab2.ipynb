{
 "cells": [
  {
   "cell_type": "markdown",
   "metadata": {},
   "source": [
    "## Лабораторная работа 2\n",
    "Вычисление интеграла методом Симпсона"
   ]
  },
  {
   "cell_type": "code",
   "execution_count": 1,
   "metadata": {},
   "outputs": [],
   "source": [
    "import numpy as np\n",
    "from math import sqrt\n",
    "e = np.e\n",
    "pi = np.pi"
   ]
  },
  {
   "cell_type": "code",
   "execution_count": 2,
   "metadata": {},
   "outputs": [],
   "source": [
    "# считает значения f(x) для конкретной функции - любой из пяти на выбор\n",
    "def f_x(type_of_f, x):\n",
    "    if type_of_f == 0:\n",
    "        return sqrt(x + 1)\n",
    "    if type_of_f == 1:\n",
    "        return x ** 3 + 5 * (x ** 2) -2\n",
    "    if type_of_f == 2:\n",
    "        return 5\n",
    "    if type_of_f == 3:\n",
    "        return e ** x\n",
    "    if type_of_f == 4:\n",
    "        return np.sin(x^2)"
   ]
  },
  {
   "cell_type": "code",
   "execution_count": 3,
   "metadata": {},
   "outputs": [],
   "source": [
    "# Эта функция для ввода одного float числа (+ проверка на всякое всякое,\n",
    "# flag нужен, что если число - граница и мы работаем с корнем, то прочекать, что с ОДЗ ок все) \n",
    "def in_float(s = 'Введите значение', board = False):\n",
    "    flag = True\n",
    "    val = -1\n",
    "    while flag:\n",
    "        flag = False\n",
    "        try:\n",
    "            val = float(input(s))\n",
    "        except:\n",
    "            flag = True\n",
    "            print('Попробуйте снова!')\n",
    "        if board and val<1:\n",
    "            flag = True\n",
    "            print('Не пододит под ОДЗ.')\n",
    "    return val"
   ]
  },
  {
   "cell_type": "code",
   "execution_count": 4,
   "metadata": {},
   "outputs": [],
   "source": [
    "#эта функция вводит в игру всех игроков (переменные), отдает тип функции (из 5), точность и границы\n",
    "def input_f():\n",
    "    flag = True\n",
    "    type_of_f = -1\n",
    "    while flag:\n",
    "        flag = False\n",
    "        try:\n",
    "            type_of_f = input('Выберите функцию:\\n\\t* 0 - f(x) = sqrt(x + 1)\\n\\t* 1 - f(x) = x^3 + 5 * x^2 - 2\\n\\t* 2 - f(x) = 5\\n\\t* 3 - f(x) = 3 ** x\\n\\t* 4 - f(x) = sin(x^2)\\n')\n",
    "            type_of_f = float(type_of_f)\n",
    "            if type_of_f != 0 and type_of_f != 1 and type_of_f != 2 and type_of_f != 3 and type_of_f != 4:\n",
    "                flag = True\n",
    "                print('Попробуйте снова!')\n",
    "        except:\n",
    "            flag = True\n",
    "            print('Попробуйте снова!')\n",
    "    eps = in_float(s = '\\n\\nВведите точность\\n')\n",
    "    board = False\n",
    "    if type_of_f == 0:\n",
    "        board = True\n",
    "    a = in_float(s = '\\n\\nВведите левую границу\\n', board = board)\n",
    "    b = in_float(s = '\\n\\nВведите правую границу\\n', board = board)\n",
    "    return type_of_f, eps, a, b"
   ]
  },
  {
   "cell_type": "code",
   "execution_count": 5,
   "metadata": {},
   "outputs": [],
   "source": [
    "# интегрируем по простой формуле методом Симпсона\n",
    "def integrate(type_of_f, a, b, n_iter):\n",
    "    length = b - a\n",
    "    integrate = 0\n",
    "    for i in range(0, n_iter+1):\n",
    "        x = a + length * i / n_iter\n",
    "        y = f_x(type_of_f, x)\n",
    "        if i == 0 or i == n_iter:\n",
    "            integrate += y\n",
    "        elif i % 2 == 0:\n",
    "            integrate += 2 * y\n",
    "        else:\n",
    "            integrate += 4 * y\n",
    "    integrate *= (length / n_iter) / 3\n",
    "    return integrate "
   ]
  },
  {
   "cell_type": "code",
   "execution_count": 10,
   "metadata": {
    "scrolled": true
   },
   "outputs": [],
   "source": [
    "# Считаем интеграл до тех пор, пока точность не будет той, которая нам нужна (смотрим на разницу между соседними итерациями)\n",
    "def run():\n",
    "    type_of_f, eps, a, b = input_f()\n",
    "    sign = 1\n",
    "    if b < a:\n",
    "        a, b = b, a\n",
    "        sign = -1\n",
    "    iter_1 = integrate(type_of_f, a, b, 4)\n",
    "    iter_2 = integrate(type_of_f, a, b, 8)\n",
    "    n_iter = 16\n",
    "    while abs(iter_1 - iter_2)>eps:\n",
    "        iter_1 = iter_2\n",
    "        iter_2 = integrate(type_of_f, a, b, n_iter)\n",
    "        n_iter *= 2\n",
    "    return iter_2, n_iter // 2"
   ]
  },
  {
   "cell_type": "code",
   "execution_count": 11,
   "metadata": {},
   "outputs": [
    {
     "name": "stdout",
     "output_type": "stream",
     "text": [
      "Выберите функцию:\n",
      "\t* 0 - f(x) = sqrt(x + 1)\n",
      "\t* 1 - f(x) = x^3 + 5 * x^2 - 2\n",
      "\t* 2 - f(x) = 5\n",
      "\t* 3 - f(x) = 3 ** x\n",
      "\t* 4 - f(x) = sin(x^2)\n",
      "2\n",
      "\n",
      "\n",
      "Введите точность\n",
      "0ю1\n",
      "Попробуйте снова!\n",
      "\n",
      "\n",
      "Введите точность\n",
      "0.1\n",
      "\n",
      "\n",
      "Введите левую границу\n",
      "2\n",
      "\n",
      "\n",
      "Введите правую границу\n",
      "99\n",
      "Ответ: 485.00000000000006\n",
      "Количество итераций: 2\n"
     ]
    }
   ],
   "source": [
    "answer, n_iter = run()\n",
    "print('Ответ: '+str(answer))\n",
    "print('Количество итераций: '+str(int(np.log2(n_iter)) - 1))"
   ]
  },
  {
   "cell_type": "code",
   "execution_count": null,
   "metadata": {},
   "outputs": [],
   "source": []
  }
 ],
 "metadata": {
  "kernelspec": {
   "display_name": "Python 3",
   "language": "python",
   "name": "python3"
  },
  "language_info": {
   "codemirror_mode": {
    "name": "ipython",
    "version": 3
   },
   "file_extension": ".py",
   "mimetype": "text/x-python",
   "name": "python",
   "nbconvert_exporter": "python",
   "pygments_lexer": "ipython3",
   "version": "3.7.6"
  }
 },
 "nbformat": 4,
 "nbformat_minor": 4
}
