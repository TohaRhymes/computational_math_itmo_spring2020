{
 "cells": [
  {
   "cell_type": "markdown",
   "metadata": {},
   "source": [
    "## Численное решение нелинейных уравнений"
   ]
  },
  {
   "cell_type": "code",
   "execution_count": 1,
   "metadata": {},
   "outputs": [],
   "source": [
    "import math\n",
    "import numpy as np\n",
    "import matplotlib\n",
    "import matplotlib.pyplot as plt\n",
    "import matplotlib.lines as mlines\n",
    "from numpy import genfromtxt\n",
    "import sys"
   ]
  },
  {
   "cell_type": "code",
   "execution_count": 2,
   "metadata": {},
   "outputs": [],
   "source": [
    "def f_0(x):\n",
    "    return -x ** 3 + 5.67 * x ** 2 -7.12 * x + 1.34\n",
    "\n",
    "def f_1(x):\n",
    "    return - 3 * x ** 2 + 2 * 5.67 * x - 7.12\n",
    "\n",
    "def f_2(x):\n",
    "    return - 6 * x + 2 * 5.67\n",
    "\n",
    "def phi_der(x):\n",
    "    return (- 3 * x ** 2 + 2 * 5.67 * x) / 7.12"
   ]
  },
  {
   "cell_type": "code",
   "execution_count": 3,
   "metadata": {},
   "outputs": [],
   "source": [
    "def newline(p1, p2, color = 'black'):\n",
    "    ax = plt.gca()\n",
    "    xmin, xmax = ax.get_xbound()\n",
    "\n",
    "    if(p2[0] == p1[0]):\n",
    "        xmin = xmax = p1[0]\n",
    "        ymin, ymax = ax.get_ybound()\n",
    "    else:\n",
    "        ymax = p1[1]+(p2[1]-p1[1])/(p2[0]-p1[0])*(xmax-p1[0])\n",
    "        ymin = p1[1]+(p2[1]-p1[1])/(p2[0]-p1[0])*(xmin-p1[0])\n",
    "\n",
    "    l = mlines.Line2D([xmin,xmax], [ymin,ymax], color = color)\n",
    "    ax.add_line(l)\n",
    "    return l\n",
    "\n",
    "def draw(a, b, Xs = []):\n",
    "    \n",
    "    x = [a + i*(b-a)/10000 for i in range(10000)]\n",
    "    y = []\n",
    "    for xx in x:\n",
    "        y.append(f_0(xx))\n",
    "    \n",
    "  \n",
    "    # draw graph\n",
    "    plt.plot(x, y)\n",
    "    \n",
    "    #draw x\n",
    "#     for xx in Xs:\n",
    "#         p = [xx, min(y)]\n",
    "#         pp = [xx, max(y)]\n",
    "#         newline(p, pp, color='red')\n",
    "    for xx in Xs:\n",
    "        plt.scatter(xx, 0, color = 'red')\n",
    "    \n",
    "        # draw axes\n",
    "    p1 = [min(x), 0]\n",
    "    p2 = [max(x), 0]\n",
    "    p3 = [0, min(y)]\n",
    "    p4 = [0, max(y)]\n",
    "    newline(p1,p2, color = 'black')\n",
    "    newline(p3,p4, color = 'black')\n",
    "    \n",
    "    \n",
    "    plt.show()"
   ]
  },
  {
   "cell_type": "code",
   "execution_count": 14,
   "metadata": {},
   "outputs": [],
   "source": [
    "def simple_check(a, b, method = ''):\n",
    "    # Проверим наличие корня:\n",
    "    if f_0(a) * f_0(b) > 0:\n",
    "        raise ValueError(f'Ошибка вычисления методом {method}:\\nВ веденном интервале должен располагаться ровно 1 корень, и значения на концах должны быть разных знаков!')\n",
    "    \n",
    "    start = np.sign(f_0(a))\n",
    "    changing = 0\n",
    "    for i in range(1, 1001):\n",
    "        x = a + i*(b-a)/1000\n",
    "        f = f_0 (x)\n",
    "        if np.sign(f) != start:\n",
    "            start = np.sign(f)\n",
    "            changing +=1\n",
    "    if changing != 1:\n",
    "        raise ValueError(f'Ошибка вычисления методом {method}:\\nВ введенном интервале смена знака происходит не 1 раз!')\n",
    "\n",
    "\n",
    "def chord_count(a, b):\n",
    "    return (a * f_0(b) - b * f_0(a)) / (f_0(b) - f_0(a))\n",
    "\n",
    "def chord(a, b, eps):\n",
    "    if b < a:\n",
    "        a, b = b, a\n",
    "        \n",
    "    simple_check(a, b, method = 'Хорд')\n",
    "    \n",
    "    x = chord_count(a, b)\n",
    "    n = 0\n",
    "    while abs(a - b) > eps:\n",
    "        n += 1\n",
    "        x = chord_count(a, b)\n",
    "        if f_0(a) * f_0 (x) < 0:\n",
    "            b = x\n",
    "        else:\n",
    "            a = x\n",
    "        \n",
    "    if n == 0:\n",
    "        n=1\n",
    "    return x, n\n",
    "\n",
    "def newtone(a, b, eps):\n",
    "    if b < a:\n",
    "        a, b = b, a\n",
    "        \n",
    "    simple_check(a, b, method = 'Ньютона')\n",
    "    x = 0\n",
    "    if f_0(a) * f_2(a) > 0:\n",
    "        x = a\n",
    "    elif f_0(b) * f_2(b) > 0:\n",
    "        x = b\n",
    "    else:\n",
    "        raise ValueError('Ошибка методом вычисления Ньютона:\\nНе выполняется условие сходимости.')\n",
    "    \n",
    "    n = 0\n",
    "    while n<1 or (abs(f_0(x)/f_1(x)) > eps or abs(f_0(x)) > eps):\n",
    "        n += 1\n",
    "        x -= f_0(x)/f_1(x)\n",
    "    return x, n\n",
    "\n",
    "def iteretions(a, b, eps):\n",
    "    try:\n",
    "        if b < a:\n",
    "            a, b = b, a\n",
    "\n",
    "        simple_check(a, b, method = 'простых итераций')\n",
    "        x = 0\n",
    "\n",
    "        lam = -1/max(f_1(a), f_1(b))\n",
    "        n = 0\n",
    "        x = a if f_1(a) > f_1(b) else b\n",
    "        while abs(lam * f_0(x)) > eps:\n",
    "            n += 1\n",
    "            x += lam * f_0(x)\n",
    "            if n > 1000:\n",
    "                raise ValueError('Ошибка методом вычисления простой итерации:\\nНе cходится.')\n",
    "\n",
    "        return x, n\n",
    "    except OverflowError:\n",
    "        raise ValueError('Ошибка методом вычисления простой итерации:\\nНе cходится, или необходимо слишком много итераций.')"
   ]
  },
  {
   "cell_type": "code",
   "execution_count": 15,
   "metadata": {},
   "outputs": [],
   "source": [
    "def in_float(s = ''):\n",
    "    flag = True\n",
    "    while flag:\n",
    "        flag = False\n",
    "        try:\n",
    "            val = float(input('Введите значение ' + s +': '))\n",
    "        except ValueError:\n",
    "            flag = True\n",
    "            print('Попробуйте снова!\\n')\n",
    "    return val\n",
    "\n",
    "\n",
    "def parse():\n",
    "    flag = True\n",
    "    while flag:\n",
    "        path = input('Введи путь:\\n')\n",
    "        try:\n",
    "            a, b, eps = genfromtxt(path, delimiter=',')\n",
    "            a = float(a)\n",
    "            b = float(b)\n",
    "            eps = float(eps)\n",
    "            return a, b, eps\n",
    "        except ValueError:\n",
    "            print('В файле должно быть 3 циферки через запятую\\n')\n",
    "        except OSError:\n",
    "            print('Такого файла нет.\\n')\n",
    "        print('Попробуйте снова!\\n')\n",
    "\n",
    "\n",
    "\n",
    "def run():\n",
    "    again = True\n",
    "    print('Добрый день! Будем искать корни функции:\\n-x ** 3 + 5.67 * x ** 2 -7.12 * x + 1.34\\n')\n",
    "    draw(-1, 5)\n",
    "    while again:\n",
    "        again = False\n",
    "        in_type = input('Введи:\\n\\t* k - если хочешь вводить с клавиатуры\\n\\t* f - если хочешь вводить из файла\\n')\n",
    "        if in_type.strip() == 'k':\n",
    "            a = in_float('a')\n",
    "            b = in_float('b')\n",
    "            eps = in_float('eps')\n",
    "        elif in_type.strip() == 'f':\n",
    "            a, b, eps = parse()\n",
    "        else:\n",
    "            print('Введено неверно, попробуй снова.')\n",
    "            again = True\n",
    "    again = True\n",
    "    while again:\n",
    "        again = False\n",
    "        in_type = input('Выбери способ:\\n\\t* с - метод хорд\\n\\t* n - метод Ньютона\\n\\t* i - метод итераций\\n\\t* q - выход\\n')\n",
    "        try:\n",
    "            if in_type.strip() == 'c':\n",
    "                x, n = chord(a, b, eps)\n",
    "            elif in_type.strip() == 'n':\n",
    "                x, n = newtone(a, b, eps)\n",
    "            elif in_type.strip() == 'i':\n",
    "                x, n = iteretions(a, b, eps)\n",
    "            if in_type.strip() == 'c' or in_type.strip() == 'n' or in_type.strip() == 'i':\n",
    "                print(f'Решено за {n} итераций\\nX = {x}\\n График:\\n')\n",
    "                draw(-1, 5, [x])\n",
    "            elif in_type.strip() == 'q':\n",
    "                break\n",
    "            else:\n",
    "                raise ValueError('Введено неверно, попробуй снова.')\n",
    "        except ValueError as err:\n",
    "            print(err)\n",
    "            again = True\n"
   ]
  },
  {
   "cell_type": "code",
   "execution_count": 7,
   "metadata": {},
   "outputs": [
    {
     "name": "stdout",
     "output_type": "stream",
     "text": [
      "Добрый день! Будем искать корни функции:\n",
      "-x ** 3 + 5.67 * x ** 2 -7.12 * x + 1.34\n",
      "\n"
     ]
    },
    {
     "data": {
      "image/png": "[encoded data removed]",
      "text/plain": [
       "<Figure size 432x288 with 1 Axes>"
      ]
     },
     "metadata": {
      "needs_background": "light"
     },
     "output_type": "display_data"
    },
    {
     "name": "stdout",
     "output_type": "stream",
     "text": [
      "Введи:\n",
      "\t* k - если хочешь вводить с клавиатуры\n",
      "\t* f - если хочешь вводить из файла\n",
      "f\n",
      "Введи путь:\n",
      "bad.csv\n",
      "В файле должно быть 3 циферки через запятую\n",
      "\n",
      "Попробуйте снова!\n",
      "\n",
      "Введи путь:\n",
      "good.csv\n",
      "Выбери способ:\n",
      "\t* с - метод хорд\n",
      "\t* n - метод Ньютона\n",
      "\t* i - метод итераций\n",
      "\t* q - выход\n",
      "n\n",
      "Решено за 5 итераций\n",
      "X = 0.22790110832073876\n",
      " График:\n",
      "\n"
     ]
    },
    {
     "data": {
      "image/png": "[encoded data removed]",
      "text/plain": [
       "<Figure size 432x288 with 1 Axes>"
      ]
     },
     "metadata": {
      "needs_background": "light"
     },
     "output_type": "display_data"
    }
   ],
   "source": [
    "run()"
   ]
  },
  {
   "cell_type": "code",
   "execution_count": 18,
   "metadata": {},
   "outputs": [
    {
     "name": "stdout",
     "output_type": "stream",
     "text": [
      "Добрый день! Будем искать корни функции:\n",
      "-x ** 3 + 5.67 * x ** 2 -7.12 * x + 1.34\n",
      "\n"
     ]
    },
    {
     "data": {
      "image/png": "[encoded data removed]",
      "text/plain": [
       "<Figure size 432x288 with 1 Axes>"
      ]
     },
     "metadata": {
      "needs_background": "light"
     },
     "output_type": "display_data"
    },
    {
     "name": "stdout",
     "output_type": "stream",
     "text": [
      "Введи:\n",
      "\t* k - если хочешь вводить с клавиатуры\n",
      "\t* f - если хочешь вводить из файла\n",
      "k\n",
      "Введите значение a: 3\n",
      "Введите значение b: 5\n",
      "Введите значение eps: 0.01\n",
      "Выбери способ:\n",
      "\t* с - метод хорд\n",
      "\t* n - метод Ньютона\n",
      "\t* i - метод итераций\n",
      "\t* q - выход\n",
      "c\n",
      "Решено за 44 итераций\n",
      "X = 3.9557035172576134\n",
      " График:\n",
      "\n"
     ]
    },
    {
     "data": {
      "image/png": "[encoded data removed]",
      "text/plain": [
       "<Figure size 432x288 with 1 Axes>"
      ]
     },
     "metadata": {
      "needs_background": "light"
     },
     "output_type": "display_data"
    }
   ],
   "source": [
    "run()"
   ]
  },
  {
   "cell_type": "code",
   "execution_count": null,
   "metadata": {},
   "outputs": [],
   "source": []
  }
 ],
 "metadata": {
  "kernelspec": {
   "display_name": "Python 3",
   "language": "python",
   "name": "python3"
  },
  "language_info": {
   "codemirror_mode": {
    "name": "ipython",
    "version": 3
   },
   "file_extension": ".py",
   "mimetype": "text/x-python",
   "name": "python",
   "nbconvert_exporter": "python",
   "pygments_lexer": "ipython3",
   "version": "3.7.6"
  }
 },
 "nbformat": 4,
 "nbformat_minor": 4
}
